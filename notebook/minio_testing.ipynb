{
 "cells": [
  {
   "cell_type": "code",
   "execution_count": 1,
   "id": "7d4ddccb",
   "metadata": {},
   "outputs": [
    {
     "name": "stdout",
     "output_type": "stream",
     "text": [
      "hello\n"
     ]
    }
   ],
   "source": [
    "print(\"hello\")"
   ]
  },
  {
   "cell_type": "code",
   "execution_count": 2,
   "id": "77761637",
   "metadata": {},
   "outputs": [],
   "source": [
    "import os\n",
    "os.chdir('../')"
   ]
  },
  {
   "cell_type": "code",
   "execution_count": 4,
   "id": "7aa18ed3",
   "metadata": {},
   "outputs": [],
   "source": [
    "from src.utils.minio_uploader import MinioUploader\n",
    "from src.utils.delta_exporter import *\n",
    "from src.components.data_ingestion import *\n",
    "import logging\n",
    "import csv\n",
    "from datetime import datetime, timedelta, timezone\n",
    "from binance_sdk_c2c.c2c import C2C, ConfigurationRestAPI, C2C_REST_API_PROD_URL\n",
    "from turtle import home\n",
    "from typing import List, Optional\n",
    "from binance_sdk_c2c.rest_api.models import GetC2CTradeHistoryResponse, GetC2CTradeHistoryResponseDataInner\n",
    "from src.utils.utils import *\n",
    "from src.components.data_ingestion import C2CExtended"
   ]
  },
  {
   "cell_type": "markdown",
   "id": "9f6f6400",
   "metadata": {},
   "source": [
    "# Test"
   ]
  },
  {
   "cell_type": "code",
   "execution_count": 5,
   "id": "36ab8864",
   "metadata": {},
   "outputs": [
    {
     "name": "stderr",
     "output_type": "stream",
     "text": [
      "INFO:root:Page 1 rate limits: []\n",
      "INFO:root:Page 1 retrieved 50 records, 50 within time range\n",
      "INFO:root:Page 2 rate limits: []\n",
      "INFO:root:Page 2 retrieved 50 records, 50 within time range\n",
      "INFO:root:Page 3 rate limits: []\n",
      "INFO:root:Page 3 retrieved 50 records, 50 within time range\n",
      "INFO:root:Page 4 rate limits: []\n",
      "INFO:root:Page 4 retrieved 50 records, 50 within time range\n",
      "INFO:root:Page 5 rate limits: []\n",
      "INFO:root:Page 5 retrieved 50 records, 31 within time range\n",
      "INFO:root:Page 6 rate limits: []\n",
      "INFO:root:Page 6 retrieved 50 records, 0 within time range\n",
      "INFO:root:Consecutive empty pages: 1/3\n",
      "INFO:root:Page 7 rate limits: []\n",
      "INFO:root:Page 7 retrieved 50 records, 0 within time range\n",
      "INFO:root:Consecutive empty pages: 2/3\n",
      "INFO:root:Page 8 rate limits: []\n",
      "INFO:root:Page 8 retrieved 50 records, 0 within time range\n",
      "INFO:root:Consecutive empty pages: 3/3\n",
      "INFO:root:Stopping early: 3 consecutive pages with no data in time range\n"
     ]
    }
   ],
   "source": [
    "from binance_common.configuration import ConfigurationRestAPI\n",
    "# Create configuration for the REST API\n",
    "configuration_rest_api = ConfigurationRestAPI(\n",
    "    api_key=os.getenv(\"API_KEY\", \"\"),\n",
    "    api_secret=os.getenv(\"API_SECRET\", \"\"),\n",
    "    base_path=os.getenv(\"BASE_PATH\", C2C_REST_API_PROD_URL),\n",
    ")\n",
    "c2c = C2CExtended(configuration_rest_api)\n",
    "# Ví dụ 5: Lấy giao dịch khoảng thời gian tùy chỉnh (01/09/2025 - 10/09/2025)\n",
    "# Lấy giao dịch cho danh sách các ngày bất kỳ\n",
    "data = c2c.get_latest()"
   ]
  },
  {
   "cell_type": "markdown",
   "id": "d608a38a",
   "metadata": {},
   "source": [
    "## Convert API's response data to deltalake"
   ]
  },
  {
   "cell_type": "code",
   "execution_count": 14,
   "id": "e09b3c24",
   "metadata": {},
   "outputs": [
    {
     "data": {
      "text/plain": [
       "231"
      ]
     },
     "execution_count": 14,
     "metadata": {},
     "output_type": "execute_result"
    }
   ],
   "source": [
    "len(data)"
   ]
  },
  {
   "cell_type": "code",
   "execution_count": 8,
   "id": "0e58b5dd",
   "metadata": {},
   "outputs": [
    {
     "name": "stderr",
     "output_type": "stream",
     "text": [
      "\u001b[32m2025-10-14 23:50:15.204\u001b[0m | \u001b[1mINFO    \u001b[0m | \u001b[36msrc.utils.delta_exporter\u001b[0m:\u001b[36mapi_results_to_dataframe\u001b[0m:\u001b[36m50\u001b[0m - \u001b[1mCreated DataFrame: shape=(231, 18)\u001b[0m\n"
     ]
    }
   ],
   "source": [
    "# 1) Convert API results (list[dict] or objects) to DataFrame\n",
    "df = api_results_to_dataframe(data)\n"
   ]
  },
  {
   "cell_type": "code",
   "execution_count": 11,
   "id": "707a9371",
   "metadata": {},
   "outputs": [
    {
     "data": {
      "text/plain": [
       "(231, 18)"
      ]
     },
     "execution_count": 11,
     "metadata": {},
     "output_type": "execute_result"
    }
   ],
   "source": [
    "df.shape"
   ]
  },
  {
   "cell_type": "code",
   "execution_count": 15,
   "id": "8777addc",
   "metadata": {},
   "outputs": [],
   "source": [
    "delta_path = \"test_data_lakehouse/delta/c2c_trades\""
   ]
  },
  {
   "cell_type": "code",
   "execution_count": 16,
   "id": "a55802c7",
   "metadata": {},
   "outputs": [
    {
     "ename": "ImportError",
     "evalue": "Pandas requires version '14.0.0' or newer of 'pyarrow' (version '11.0.0' currently installed).",
     "output_type": "error",
     "traceback": [
      "\u001b[1;31m---------------------------------------------------------------------------\u001b[0m",
      "\u001b[1;31mImportError\u001b[0m                               Traceback (most recent call last)",
      "Cell \u001b[1;32mIn[16], line 1\u001b[0m\n\u001b[1;32m----> 1\u001b[0m \u001b[43mwrite_dataframe_to_delta\u001b[49m\u001b[43m(\u001b[49m\u001b[43mdf\u001b[49m\u001b[43m,\u001b[49m\u001b[43m \u001b[49m\u001b[43mdelta_path\u001b[49m\u001b[43m,\u001b[49m\u001b[43m \u001b[49m\u001b[43mmode\u001b[49m\u001b[38;5;241;43m=\u001b[39;49m\u001b[38;5;124;43m\"\u001b[39;49m\u001b[38;5;124;43mappend\u001b[39;49m\u001b[38;5;124;43m\"\u001b[39;49m\u001b[43m,\u001b[49m\u001b[43m \u001b[49m\u001b[43mpartition_by\u001b[49m\u001b[38;5;241;43m=\u001b[39;49m\u001b[38;5;28;43;01mNone\u001b[39;49;00m\u001b[43m)\u001b[49m\n",
      "File \u001b[1;32md:\\Working\\binance-merchant-trading-flow\\src\\utils\\delta_exporter.py:73\u001b[0m, in \u001b[0;36mwrite_dataframe_to_delta\u001b[1;34m(df, delta_path, mode, partition_by)\u001b[0m\n\u001b[0;32m     60\u001b[0m \u001b[38;5;250m\u001b[39m\u001b[38;5;124;03m\"\"\"\u001b[39;00m\n\u001b[0;32m     61\u001b[0m \u001b[38;5;124;03mWrite DataFrame to a local Delta Lake table path.\u001b[39;00m\n\u001b[0;32m     62\u001b[0m \n\u001b[1;32m   (...)\u001b[0m\n\u001b[0;32m     70\u001b[0m \u001b[38;5;124;03m    The Delta table path\u001b[39;00m\n\u001b[0;32m     71\u001b[0m \u001b[38;5;124;03m\"\"\"\u001b[39;00m\n\u001b[0;32m     72\u001b[0m os\u001b[38;5;241m.\u001b[39mmakedirs(delta_path, exist_ok\u001b[38;5;241m=\u001b[39m\u001b[38;5;28;01mTrue\u001b[39;00m)\n\u001b[1;32m---> 73\u001b[0m \u001b[43mwrite_deltalake\u001b[49m\u001b[43m(\u001b[49m\u001b[43mdelta_path\u001b[49m\u001b[43m,\u001b[49m\u001b[43m \u001b[49m\u001b[43mdf\u001b[49m\u001b[43m,\u001b[49m\u001b[43m \u001b[49m\u001b[43mmode\u001b[49m\u001b[38;5;241;43m=\u001b[39;49m\u001b[43mmode\u001b[49m\u001b[43m,\u001b[49m\u001b[43m \u001b[49m\u001b[43mpartition_by\u001b[49m\u001b[38;5;241;43m=\u001b[39;49m\u001b[43mpartition_by\u001b[49m\u001b[43m)\u001b[49m\n\u001b[0;32m     74\u001b[0m logger\u001b[38;5;241m.\u001b[39minfo(\u001b[38;5;124mf\u001b[39m\u001b[38;5;124m\"\u001b[39m\u001b[38;5;124mWrote DataFrame to Delta: path=\u001b[39m\u001b[38;5;132;01m{\u001b[39;00mdelta_path\u001b[38;5;132;01m}\u001b[39;00m\u001b[38;5;124m, mode=\u001b[39m\u001b[38;5;132;01m{\u001b[39;00mmode\u001b[38;5;132;01m}\u001b[39;00m\u001b[38;5;124m, rows=\u001b[39m\u001b[38;5;132;01m{\u001b[39;00m\u001b[38;5;28mlen\u001b[39m(df)\u001b[38;5;132;01m}\u001b[39;00m\u001b[38;5;124m\"\u001b[39m)\n\u001b[0;32m     75\u001b[0m \u001b[38;5;28;01mreturn\u001b[39;00m delta_path\n",
      "File \u001b[1;32md:\\Working\\binance-merchant-trading-flow\\.venv\\lib\\site-packages\\deltalake\\writer\\writer.py:120\u001b[0m, in \u001b[0;36mwrite_deltalake\u001b[1;34m(table_or_uri, data, partition_by, mode, name, description, configuration, schema_mode, storage_options, predicate, target_file_size, writer_properties, post_commithook_properties, commit_properties)\u001b[0m\n\u001b[0;32m    118\u001b[0m     data \u001b[38;5;241m=\u001b[39m RecordBatchReader\u001b[38;5;241m.\u001b[39mfrom_batches(data[\u001b[38;5;241m0\u001b[39m], data)  \u001b[38;5;66;03m# type: ignore\u001b[39;00m\n\u001b[0;32m    119\u001b[0m \u001b[38;5;28;01melse\u001b[39;00m:\n\u001b[1;32m--> 120\u001b[0m     data \u001b[38;5;241m=\u001b[39m \u001b[43mRecordBatchReader\u001b[49m\u001b[38;5;241;43m.\u001b[39;49m\u001b[43mfrom_arrow\u001b[49m\u001b[43m(\u001b[49m\u001b[43mdata\u001b[49m\u001b[43m)\u001b[49m\n\u001b[0;32m    122\u001b[0m existing_schema \u001b[38;5;241m=\u001b[39m \u001b[38;5;28;01mNone\u001b[39;00m\n\u001b[0;32m    123\u001b[0m \u001b[38;5;28;01mif\u001b[39;00m table \u001b[38;5;129;01mis\u001b[39;00m \u001b[38;5;129;01mnot\u001b[39;00m \u001b[38;5;28;01mNone\u001b[39;00m:\n",
      "File \u001b[1;32md:\\Working\\binance-merchant-trading-flow\\.venv\\lib\\site-packages\\pandas\\core\\frame.py:1022\u001b[0m, in \u001b[0;36mDataFrame.__arrow_c_stream__\u001b[1;34m(self, requested_schema)\u001b[0m\n\u001b[0;32m   1001\u001b[0m \u001b[38;5;28;01mdef\u001b[39;00m\u001b[38;5;250m \u001b[39m\u001b[38;5;21m__arrow_c_stream__\u001b[39m(\u001b[38;5;28mself\u001b[39m, requested_schema\u001b[38;5;241m=\u001b[39m\u001b[38;5;28;01mNone\u001b[39;00m):\n\u001b[0;32m   1002\u001b[0m \u001b[38;5;250m    \u001b[39m\u001b[38;5;124;03m\"\"\"\u001b[39;00m\n\u001b[0;32m   1003\u001b[0m \u001b[38;5;124;03m    Export the pandas DataFrame as an Arrow C stream PyCapsule.\u001b[39;00m\n\u001b[0;32m   1004\u001b[0m \n\u001b[1;32m   (...)\u001b[0m\n\u001b[0;32m   1020\u001b[0m \u001b[38;5;124;03m    PyCapsule\u001b[39;00m\n\u001b[0;32m   1021\u001b[0m \u001b[38;5;124;03m    \"\"\"\u001b[39;00m\n\u001b[1;32m-> 1022\u001b[0m     pa \u001b[38;5;241m=\u001b[39m \u001b[43mimport_optional_dependency\u001b[49m\u001b[43m(\u001b[49m\u001b[38;5;124;43m\"\u001b[39;49m\u001b[38;5;124;43mpyarrow\u001b[39;49m\u001b[38;5;124;43m\"\u001b[39;49m\u001b[43m,\u001b[49m\u001b[43m \u001b[49m\u001b[43mmin_version\u001b[49m\u001b[38;5;241;43m=\u001b[39;49m\u001b[38;5;124;43m\"\u001b[39;49m\u001b[38;5;124;43m14.0.0\u001b[39;49m\u001b[38;5;124;43m\"\u001b[39;49m\u001b[43m)\u001b[49m\n\u001b[0;32m   1023\u001b[0m     \u001b[38;5;28;01mif\u001b[39;00m requested_schema \u001b[38;5;129;01mis\u001b[39;00m \u001b[38;5;129;01mnot\u001b[39;00m \u001b[38;5;28;01mNone\u001b[39;00m:\n\u001b[0;32m   1024\u001b[0m         requested_schema \u001b[38;5;241m=\u001b[39m pa\u001b[38;5;241m.\u001b[39mSchema\u001b[38;5;241m.\u001b[39m_import_from_c_capsule(requested_schema)\n",
      "File \u001b[1;32md:\\Working\\binance-merchant-trading-flow\\.venv\\lib\\site-packages\\pandas\\compat\\_optional.py:164\u001b[0m, in \u001b[0;36mimport_optional_dependency\u001b[1;34m(name, extra, errors, min_version)\u001b[0m\n\u001b[0;32m    162\u001b[0m     \u001b[38;5;28;01mreturn\u001b[39;00m \u001b[38;5;28;01mNone\u001b[39;00m\n\u001b[0;32m    163\u001b[0m \u001b[38;5;28;01melif\u001b[39;00m errors \u001b[38;5;241m==\u001b[39m \u001b[38;5;124m\"\u001b[39m\u001b[38;5;124mraise\u001b[39m\u001b[38;5;124m\"\u001b[39m:\n\u001b[1;32m--> 164\u001b[0m     \u001b[38;5;28;01mraise\u001b[39;00m \u001b[38;5;167;01mImportError\u001b[39;00m(msg)\n\u001b[0;32m    165\u001b[0m \u001b[38;5;28;01melse\u001b[39;00m:\n\u001b[0;32m    166\u001b[0m     \u001b[38;5;28;01mreturn\u001b[39;00m \u001b[38;5;28;01mNone\u001b[39;00m\n",
      "\u001b[1;31mImportError\u001b[0m: Pandas requires version '14.0.0' or newer of 'pyarrow' (version '11.0.0' currently installed)."
     ]
    }
   ],
   "source": [
    "write_dataframe_to_delta(df, delta_path, mode=\"append\", partition_by=None)"
   ]
  }
 ],
 "metadata": {
  "kernelspec": {
   "display_name": ".venv",
   "language": "python",
   "name": "python3"
  },
  "language_info": {
   "codemirror_mode": {
    "name": "ipython",
    "version": 3
   },
   "file_extension": ".py",
   "mimetype": "text/x-python",
   "name": "python",
   "nbconvert_exporter": "python",
   "pygments_lexer": "ipython3",
   "version": "3.10.18"
  }
 },
 "nbformat": 4,
 "nbformat_minor": 5
}
